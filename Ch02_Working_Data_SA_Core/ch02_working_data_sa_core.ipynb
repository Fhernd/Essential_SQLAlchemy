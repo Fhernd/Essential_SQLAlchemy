{
 "cells": [
  {
   "cell_type": "markdown",
   "metadata": {},
   "source": [
    "# Chapter 2. Working with Data via SQLAlchemy Core"
   ]
  },
  {
   "cell_type": "markdown",
   "metadata": {},
   "source": [
    "## 2.1 Inserting Data"
   ]
  },
  {
   "cell_type": "code",
   "execution_count": 1,
   "metadata": {},
   "outputs": [],
   "source": [
    "from datetime import datetime\n",
    "import os"
   ]
  },
  {
   "cell_type": "code",
   "execution_count": 2,
   "metadata": {},
   "outputs": [],
   "source": [
    "from sqlalchemy import (\n",
    "    Column, DateTime, ForeignKey, Integer, MetaData, Numeric, String, Table, create_engine\n",
    ")"
   ]
  },
  {
   "cell_type": "code",
   "execution_count": 3,
   "metadata": {},
   "outputs": [],
   "source": [
    "metadata = MetaData()\n",
    "\n",
    "cookies = Table(\n",
    "    'cookies', metadata,\n",
    "    Column('cookie_id', Integer(), primary_key=True),\n",
    "    Column('cookie_name', String(50), index=True),\n",
    "    Column('cookie_recipe_url', String(255)),\n",
    "    Column('cookie_sku', String(55)),\n",
    "    Column('quantity', Integer()),\n",
    "    Column('unit_cost', Numeric(12, 2)),\n",
    "    Column('created_on', DateTime(), default=datetime.now),\n",
    "    Column('updated_on', DateTime(), default=datetime.now, onupdate=datetime.now)\n",
    ")\n",
    "\n",
    "users = Table(\n",
    "    'users', metadata,\n",
    "    Column('user_id', Integer(), primary_key=True),\n",
    "    Column('customer_number', Integer(), autoincrement=True),\n",
    "    Column('username', String(15), nullable=False, unique=True),\n",
    "    Column('email_address', String(255), nullable=False),\n",
    "    Column('phone', String(20), nullable=False),\n",
    "    Column('password', String(25), nullable=False),\n",
    "    Column('created_on', DateTime(), default=datetime.now),\n",
    "    Column('updated_on', DateTime(), default=datetime.now, onupdate=datetime.now)\n",
    ")\n",
    "\n",
    "orders = Table(\n",
    "    'orders',\n",
    "    metadata,\n",
    "    Column('order_id', Integer(), primary_key=True),\n",
    "    Column('user_id', ForeignKey('users.user_id')),\n",
    "    Column('created_on', DateTime(), default=datetime.now),\n",
    "    Column('updated_on', DateTime(), default=datetime.now, onupdate=datetime.now)\n",
    ")\n",
    "\n",
    "line_items = Table(\n",
    "    'line_items',\n",
    "    metadata,\n",
    "    Column('line_items_id', Integer(), primary_key=True),\n",
    "    Column('order_id', ForeignKey('orders.order_id')),\n",
    "    Column('cookie_id', ForeignKey('cookies.cookie_id')),\n",
    "    Column('quantity', Integer()),\n",
    "    Column('extended_cost', Numeric(12, 2))\n",
    ")"
   ]
  },
  {
   "cell_type": "code",
   "execution_count": 4,
   "metadata": {},
   "outputs": [],
   "source": [
    "current_folder = os.getcwd()\n",
    "engine = create_engine('sqlite:///' + os.path.join(current_folder, 'cookies.db'))\n",
    "metadata.create_all(engine)"
   ]
  },
  {
   "cell_type": "markdown",
   "metadata": {},
   "source": [
    "Example 2-1. Inserting data as a method"
   ]
  },
  {
   "cell_type": "code",
   "execution_count": 5,
   "metadata": {},
   "outputs": [],
   "source": [
    "new_cookie = cookies.insert().values(\n",
    "    cookie_name=\"chocolate chip\",\n",
    "    cookie_recipe_url=\"http://some.aweso.me/cookie/recipe.html\",\n",
    "    cookie_sku=\"CC01\",\n",
    "    quantity=\"12\",\n",
    "    unit_cost=\"0.50\"\n",
    ")"
   ]
  },
  {
   "cell_type": "code",
   "execution_count": 6,
   "metadata": {},
   "outputs": [
    {
     "name": "stdout",
     "output_type": "stream",
     "text": [
      "INSERT INTO cookies (cookie_name, cookie_recipe_url, cookie_sku, quantity, unit_cost, created_on, updated_on) VALUES (:cookie_name, :cookie_recipe_url, :cookie_sku, :quantity, :unit_cost, :created_on, :updated_on)\n"
     ]
    }
   ],
   "source": [
    "print(str(new_cookie))"
   ]
  },
  {
   "cell_type": "code",
   "execution_count": 7,
   "metadata": {},
   "outputs": [
    {
     "data": {
      "text/plain": [
       "{'cookie_name': 'chocolate chip',\n",
       " 'cookie_recipe_url': 'http://some.aweso.me/cookie/recipe.html',\n",
       " 'cookie_sku': 'CC01',\n",
       " 'quantity': '12',\n",
       " 'unit_cost': '0.50',\n",
       " 'created_on': None,\n",
       " 'updated_on': None}"
      ]
     },
     "execution_count": 7,
     "metadata": {},
     "output_type": "execute_result"
    }
   ],
   "source": [
    "new_cookie.compile().params"
   ]
  },
  {
   "cell_type": "code",
   "execution_count": 8,
   "metadata": {},
   "outputs": [
    {
     "name": "stdout",
     "output_type": "stream",
     "text": [
      "(1,)\n"
     ]
    }
   ],
   "source": [
    "with engine.begin() as connection:\n",
    "    result = connection.execute(new_cookie)\n",
    "    print(result.inserted_primary_key)"
   ]
  },
  {
   "cell_type": "markdown",
   "metadata": {},
   "source": [
    "**Example 2-4. Values in execute statement**"
   ]
  },
  {
   "cell_type": "code",
   "execution_count": 9,
   "metadata": {},
   "outputs": [],
   "source": [
    "insert_statement = cookies.insert()"
   ]
  },
  {
   "cell_type": "code",
   "execution_count": 10,
   "metadata": {},
   "outputs": [
    {
     "ename": "TypeError",
     "evalue": "Connection.execute() got an unexpected keyword argument 'cookie_name'",
     "output_type": "error",
     "traceback": [
      "\u001b[1;31m---------------------------------------------------------------------------\u001b[0m",
      "\u001b[1;31mTypeError\u001b[0m                                 Traceback (most recent call last)",
      "Cell \u001b[1;32mIn[10], line 1\u001b[0m\n\u001b[1;32m----> 1\u001b[0m result \u001b[38;5;241m=\u001b[39m \u001b[43mconnection\u001b[49m\u001b[38;5;241;43m.\u001b[39;49m\u001b[43mexecute\u001b[49m\u001b[43m(\u001b[49m\n\u001b[0;32m      2\u001b[0m \u001b[43m    \u001b[49m\u001b[43minsert_statement\u001b[49m\u001b[43m,\u001b[49m\n\u001b[0;32m      3\u001b[0m \u001b[43m    \u001b[49m\u001b[43mcookie_name\u001b[49m\u001b[38;5;241;43m=\u001b[39;49m\u001b[38;5;124;43m'\u001b[39;49m\u001b[38;5;124;43mdark chocolate chip\u001b[39;49m\u001b[38;5;124;43m'\u001b[39;49m\u001b[43m,\u001b[49m\n\u001b[0;32m      4\u001b[0m \u001b[43m    \u001b[49m\u001b[43mcookie_recipe_url\u001b[49m\u001b[38;5;241;43m=\u001b[39;49m\u001b[38;5;124;43m'\u001b[39;49m\u001b[38;5;124;43mhttp://some.aweso.me/cookie/recipe_dark.html\u001b[39;49m\u001b[38;5;124;43m'\u001b[39;49m\u001b[43m,\u001b[49m\n\u001b[0;32m      5\u001b[0m \u001b[43m    \u001b[49m\u001b[43mcookie_sku\u001b[49m\u001b[38;5;241;43m=\u001b[39;49m\u001b[38;5;124;43m'\u001b[39;49m\u001b[38;5;124;43mCC02\u001b[39;49m\u001b[38;5;124;43m'\u001b[39;49m\u001b[43m,\u001b[49m\n\u001b[0;32m      6\u001b[0m \u001b[43m    \u001b[49m\u001b[43mquantity\u001b[49m\u001b[38;5;241;43m=\u001b[39;49m\u001b[38;5;124;43m'\u001b[39;49m\u001b[38;5;124;43m1\u001b[39;49m\u001b[38;5;124;43m'\u001b[39;49m\u001b[43m,\u001b[49m\n\u001b[0;32m      7\u001b[0m \u001b[43m    \u001b[49m\u001b[43munit_cost\u001b[49m\u001b[38;5;241;43m=\u001b[39;49m\u001b[38;5;124;43m'\u001b[39;49m\u001b[38;5;124;43m0.75\u001b[39;49m\u001b[38;5;124;43m'\u001b[39;49m\n\u001b[0;32m      8\u001b[0m \u001b[43m)\u001b[49m\n",
      "\u001b[1;31mTypeError\u001b[0m: Connection.execute() got an unexpected keyword argument 'cookie_name'"
     ]
    }
   ],
   "source": [
    "# result = connection.execute(\n",
    "#     insert_statement,\n",
    "#     cookie_name='dark chocolate chip',\n",
    "#     cookie_recipe_url='http://some.aweso.me/cookie/recipe_dark.html',\n",
    "#     cookie_sku='CC02',\n",
    "#     quantity='1',\n",
    "#     unit_cost='0.75'\n",
    "# )"
   ]
  },
  {
   "cell_type": "code",
   "execution_count": 11,
   "metadata": {},
   "outputs": [
    {
     "ename": "TypeError",
     "evalue": "Connection.execute() got an unexpected keyword argument 'cookie_name'",
     "output_type": "error",
     "traceback": [
      "\u001b[1;31m---------------------------------------------------------------------------\u001b[0m",
      "\u001b[1;31mTypeError\u001b[0m                                 Traceback (most recent call last)",
      "Cell \u001b[1;32mIn[11], line 2\u001b[0m\n\u001b[0;32m      1\u001b[0m \u001b[38;5;28;01mwith\u001b[39;00m engine\u001b[38;5;241m.\u001b[39mbegin() \u001b[38;5;28;01mas\u001b[39;00m connection:\n\u001b[1;32m----> 2\u001b[0m     result \u001b[38;5;241m=\u001b[39m \u001b[43mconnection\u001b[49m\u001b[38;5;241;43m.\u001b[39;49m\u001b[43mexecute\u001b[49m\u001b[43m(\u001b[49m\n\u001b[0;32m      3\u001b[0m \u001b[43m        \u001b[49m\u001b[43minsert_statement\u001b[49m\u001b[43m,\u001b[49m\n\u001b[0;32m      4\u001b[0m \u001b[43m        \u001b[49m\u001b[43mcookie_name\u001b[49m\u001b[38;5;241;43m=\u001b[39;49m\u001b[38;5;124;43m'\u001b[39;49m\u001b[38;5;124;43mdark chocolate chip\u001b[39;49m\u001b[38;5;124;43m'\u001b[39;49m\u001b[43m,\u001b[49m\n\u001b[0;32m      5\u001b[0m \u001b[43m        \u001b[49m\u001b[43mcookie_recipe_url\u001b[49m\u001b[38;5;241;43m=\u001b[39;49m\u001b[38;5;124;43m'\u001b[39;49m\u001b[38;5;124;43mhttp://some.aweso.me/cookie/recipe_dark.html\u001b[39;49m\u001b[38;5;124;43m'\u001b[39;49m\u001b[43m,\u001b[49m\n\u001b[0;32m      6\u001b[0m \u001b[43m        \u001b[49m\u001b[43mcookie_sku\u001b[49m\u001b[38;5;241;43m=\u001b[39;49m\u001b[38;5;124;43m'\u001b[39;49m\u001b[38;5;124;43mCC02\u001b[39;49m\u001b[38;5;124;43m'\u001b[39;49m\u001b[43m,\u001b[49m\n\u001b[0;32m      7\u001b[0m \u001b[43m        \u001b[49m\u001b[43mquantity\u001b[49m\u001b[38;5;241;43m=\u001b[39;49m\u001b[38;5;124;43m'\u001b[39;49m\u001b[38;5;124;43m1\u001b[39;49m\u001b[38;5;124;43m'\u001b[39;49m\u001b[43m,\u001b[49m\n\u001b[0;32m      8\u001b[0m \u001b[43m        \u001b[49m\u001b[43munit_cost\u001b[49m\u001b[38;5;241;43m=\u001b[39;49m\u001b[38;5;124;43m'\u001b[39;49m\u001b[38;5;124;43m0.75\u001b[39;49m\u001b[38;5;124;43m'\u001b[39;49m\n\u001b[0;32m      9\u001b[0m \u001b[43m    \u001b[49m\u001b[43m)\u001b[49m\n\u001b[0;32m     11\u001b[0m     \u001b[38;5;28mprint\u001b[39m(result\u001b[38;5;241m.\u001b[39minserted_primary_key)\n",
      "\u001b[1;31mTypeError\u001b[0m: Connection.execute() got an unexpected keyword argument 'cookie_name'"
     ]
    }
   ],
   "source": [
    "# with engine.begin() as connection:\n",
    "#     result = connection.execute(\n",
    "#         insert_statement,\n",
    "#         cookie_name='dark chocolate chip',\n",
    "#         cookie_recipe_url='http://some.aweso.me/cookie/recipe_dark.html',\n",
    "#         cookie_sku='CC02',\n",
    "#         quantity='1',\n",
    "#         unit_cost='0.75'\n",
    "#     )\n",
    "    \n",
    "#     print(result.inserted_primary_key)"
   ]
  },
  {
   "cell_type": "code",
   "execution_count": 12,
   "metadata": {},
   "outputs": [
    {
     "name": "stdout",
     "output_type": "stream",
     "text": [
      "(2,)\n"
     ]
    }
   ],
   "source": [
    "with engine.begin() as connection:\n",
    "    result = connection.execute(\n",
    "        insert_statement, {\n",
    "            'cookie_name': 'dark chocolate chip',\n",
    "            'cookie_recipe_url': 'http://some.aweso.me/cookie/recipe_dark.html',\n",
    "            'cookie_sku': 'CC02',\n",
    "            'quantity': '1',\n",
    "            'unit_cost': '0.75'\n",
    "        }\n",
    "    )\n",
    "    \n",
    "    print(result.inserted_primary_key)"
   ]
  },
  {
   "cell_type": "markdown",
   "metadata": {},
   "source": [
    "Example 2-5. Multiple inserts"
   ]
  },
  {
   "cell_type": "code",
   "execution_count": 13,
   "metadata": {},
   "outputs": [],
   "source": [
    "inventory_list = [\n",
    "    {\n",
    "    'cookie_name': 'peanut butter',\n",
    "    'cookie_recipe_url': 'http://some.aweso.me/cookie/peanut.html',\n",
    "    'cookie_sku': 'PB01',\n",
    "    'quantity': '24',\n",
    "    'unit_cost': '0.25'\n",
    "    },\n",
    "    {\n",
    "    'cookie_name': 'oatmeal raisin',\n",
    "    'cookie_recipe_url': 'http://some.okay.me/cookie/raisin.html',\n",
    "    'cookie_sku': 'EWW01',\n",
    "    'quantity': '100',\n",
    "    'unit_cost': '1.00'\n",
    "    }\n",
    "]"
   ]
  },
  {
   "cell_type": "code",
   "execution_count": 14,
   "metadata": {},
   "outputs": [
    {
     "name": "stdout",
     "output_type": "stream",
     "text": [
      "2\n"
     ]
    }
   ],
   "source": [
    "with engine.begin() as connection:\n",
    "    result = connection.execute(insert_statement, inventory_list)\n",
    "    print(result.rowcount)"
   ]
  },
  {
   "cell_type": "markdown",
   "metadata": {},
   "source": [
    "## 2.2 2. Querying Data"
   ]
  },
  {
   "cell_type": "code",
   "execution_count": 16,
   "metadata": {},
   "outputs": [],
   "source": [
    "from sqlalchemy.sql import select"
   ]
  },
  {
   "cell_type": "code",
   "execution_count": 19,
   "metadata": {},
   "outputs": [
    {
     "name": "stdout",
     "output_type": "stream",
     "text": [
      "(1, 'chocolate chip', 'http://some.aweso.me/cookie/recipe.html', 'CC01', 12, Decimal('0.50'), datetime.datetime(2024, 9, 13, 11, 42, 17, 395354), datetime.datetime(2024, 9, 13, 11, 42, 17, 395354))\n",
      "(2, 'dark chocolate chip', 'http://some.aweso.me/cookie/recipe_dark.html', 'CC02', 1, Decimal('0.75'), datetime.datetime(2024, 9, 13, 11, 55, 2, 636436), datetime.datetime(2024, 9, 13, 11, 55, 2, 636436))\n",
      "(3, 'peanut butter', 'http://some.aweso.me/cookie/peanut.html', 'PB01', 24, Decimal('0.25'), datetime.datetime(2024, 9, 13, 11, 58, 14, 394962), datetime.datetime(2024, 9, 13, 11, 58, 14, 394962))\n",
      "(4, 'oatmeal raisin', 'http://some.okay.me/cookie/raisin.html', 'EWW01', 100, Decimal('1.00'), datetime.datetime(2024, 9, 13, 11, 58, 14, 394962), datetime.datetime(2024, 9, 13, 11, 58, 14, 394962))\n"
     ]
    }
   ],
   "source": [
    "selection = select(cookies)\n",
    "\n",
    "with engine.begin() as connection:\n",
    "    results = connection.execute(selection)\n",
    "    for result in results:\n",
    "        print(result)"
   ]
  },
  {
   "cell_type": "markdown",
   "metadata": {},
   "source": [
    "**Example 2-7. Simple select method**"
   ]
  },
  {
   "cell_type": "code",
   "execution_count": 26,
   "metadata": {},
   "outputs": [
    {
     "name": "stdout",
     "output_type": "stream",
     "text": [
      "(1, 'chocolate chip', 'http://some.aweso.me/cookie/recipe.html', 'CC01', 12, Decimal('0.50'), datetime.datetime(2024, 9, 13, 11, 42, 17, 395354), datetime.datetime(2024, 9, 13, 11, 42, 17, 395354))\n",
      "(2, 'dark chocolate chip', 'http://some.aweso.me/cookie/recipe_dark.html', 'CC02', 1, Decimal('0.75'), datetime.datetime(2024, 9, 13, 11, 55, 2, 636436), datetime.datetime(2024, 9, 13, 11, 55, 2, 636436))\n",
      "(3, 'peanut butter', 'http://some.aweso.me/cookie/peanut.html', 'PB01', 24, Decimal('0.25'), datetime.datetime(2024, 9, 13, 11, 58, 14, 394962), datetime.datetime(2024, 9, 13, 11, 58, 14, 394962))\n",
      "(4, 'oatmeal raisin', 'http://some.okay.me/cookie/raisin.html', 'EWW01', 100, Decimal('1.00'), datetime.datetime(2024, 9, 13, 11, 58, 14, 394962), datetime.datetime(2024, 9, 13, 11, 58, 14, 394962))\n"
     ]
    }
   ],
   "source": [
    "selection = cookies.select()\n",
    "\n",
    "with engine.begin() as connection:\n",
    "    results = connection.execute(selection)\n",
    "    for result in results:\n",
    "        print(result)"
   ]
  },
  {
   "cell_type": "markdown",
   "metadata": {},
   "source": [
    "**Example 2-10. Select only cookie_name and quantity**"
   ]
  },
  {
   "cell_type": "code",
   "execution_count": 27,
   "metadata": {},
   "outputs": [
    {
     "name": "stdout",
     "output_type": "stream",
     "text": [
      "RMKeyView(['cookie_name', 'quantity'])\n",
      "('chocolate chip', 12)\n"
     ]
    }
   ],
   "source": [
    "selection = select(cookies.c.cookie_name, cookies.c.quantity)\n",
    "\n",
    "with engine.connect() as connection:\n",
    "    results = connection.execute(selection)\n",
    "    \n",
    "    print(results.keys())\n",
    "\n",
    "    result = results.first()\n",
    "    \n",
    "    print(result)"
   ]
  },
  {
   "cell_type": "markdown",
   "metadata": {},
   "source": [
    "### 2.2.3 Ordering"
   ]
  },
  {
   "cell_type": "markdown",
   "metadata": {},
   "source": [
    "**Example 2-11. Ordering by quantity ascending**"
   ]
  },
  {
   "cell_type": "code",
   "execution_count": 28,
   "metadata": {},
   "outputs": [
    {
     "name": "stdout",
     "output_type": "stream",
     "text": [
      "1 - dark chocolate chip\n",
      "12 - chocolate chip\n",
      "24 - peanut butter\n",
      "100 - oatmeal raisin\n"
     ]
    }
   ],
   "source": [
    "selection = select(cookies.c.cookie_name, cookies.c.quantity)\n",
    "selection = selection.order_by(cookies.c.quantity)\n",
    "\n",
    "with engine.connect() as connection:\n",
    "    results = connection.execute(selection)\n",
    "    \n",
    "    for result in results:\n",
    "        print('{} - {}'.format(result.quantity, result.cookie_name))"
   ]
  },
  {
   "cell_type": "markdown",
   "metadata": {},
   "source": [
    "**Example 2-12. Order by quantity descending**"
   ]
  },
  {
   "cell_type": "code",
   "execution_count": 29,
   "metadata": {},
   "outputs": [
    {
     "name": "stdout",
     "output_type": "stream",
     "text": [
      "100 - oatmeal raisin\n",
      "24 - peanut butter\n",
      "12 - chocolate chip\n",
      "1 - dark chocolate chip\n"
     ]
    }
   ],
   "source": [
    "from sqlalchemy import desc\n",
    "\n",
    "selection = select(cookies.c.cookie_name, cookies.c.quantity)\n",
    "selection = selection.order_by(desc(cookies.c.quantity))\n",
    "\n",
    "with engine.connect() as connection:\n",
    "    results = connection.execute(selection)\n",
    "    \n",
    "    for result in results:\n",
    "        print('{} - {}'.format(result.quantity, result.cookie_name))"
   ]
  },
  {
   "cell_type": "code",
   "execution_count": null,
   "metadata": {},
   "outputs": [],
   "source": []
  }
 ],
 "metadata": {
  "kernelspec": {
   "display_name": "venv",
   "language": "python",
   "name": "python3"
  },
  "language_info": {
   "codemirror_mode": {
    "name": "ipython",
    "version": 3
   },
   "file_extension": ".py",
   "mimetype": "text/x-python",
   "name": "python",
   "nbconvert_exporter": "python",
   "pygments_lexer": "ipython3",
   "version": "3.12.2"
  }
 },
 "nbformat": 4,
 "nbformat_minor": 2
}
